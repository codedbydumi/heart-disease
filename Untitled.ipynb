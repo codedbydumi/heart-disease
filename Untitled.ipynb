{
 "cells": [
  {
   "cell_type": "markdown",
   "id": "731caa78-2a2a-46cf-86b6-2eeb5ca7b788",
   "metadata": {},
   "source": [
    "# Predicting Heart Disease using machine learning\n",
    "\n"
   ]
  },
  {
   "cell_type": "markdown",
   "id": "9d051407-86e3-48d3-b502-75b2de3ca550",
   "metadata": {},
   "source": [
    "🎯 build a machine Learning model Capable of predicting whether or not has heart desease based on their medicle attributes"
   ]
  },
  {
   "cell_type": "markdown",
   "id": "d4820dc1-2a8b-4767-8f5d-a87d1e575596",
   "metadata": {},
   "source": [
    "1. Problem definition\n",
    "2. Data\n",
    "3. Evaluation\n",
    "4. Features\n",
    "5. Modeling\n",
    "6. Experimentation"
   ]
  },
  {
   "cell_type": "markdown",
   "id": "546ce3a1-8163-436a-9a67-571b4e6a677b",
   "metadata": {},
   "source": [
    "> Problem definition\n",
    "> ---"
   ]
  },
  {
   "cell_type": "code",
   "execution_count": 2,
   "id": "6cfd5475-985a-4678-a17d-d459f6036f65",
   "metadata": {},
   "outputs": [],
   "source": [
    "from sklearn.metrics import RocCurveDisplay \n",
    "\n",
    "\n"
   ]
  },
  {
   "cell_type": "code",
   "execution_count": 6,
   "id": "94635f1e-ddbc-4665-bd78-8c5bec8633cd",
   "metadata": {},
   "outputs": [
    {
     "data": {
      "text/plain": [
       "'1.7.1'"
      ]
     },
     "execution_count": 6,
     "metadata": {},
     "output_type": "execute_result"
    }
   ],
   "source": [
    "import sklearn\n",
    "sklearn.__version__\n"
   ]
  },
  {
   "cell_type": "markdown",
   "id": "aac0718f-4692-46e4-a470-830300b0a8d3",
   "metadata": {},
   "source": [
    "## Preparming the tools"
   ]
  },
  {
   "cell_type": "markdown",
   "id": "aa2f2e40-43a8-4079-b8c1-4fd31de57c7e",
   "metadata": {},
   "source": [
    "Regular EDA and plotting libraries"
   ]
  },
  {
   "cell_type": "code",
   "execution_count": 16,
   "id": "4bd08748-2899-4c12-95bf-bf8402774d3f",
   "metadata": {},
   "outputs": [],
   "source": [
    "import numpy as np\n",
    "import pandas as pd \n",
    "import matplotlib.pyplot as plt\n",
    "import seaborn as sns\n",
    "\n",
    "%matplotlib inline\n",
    "\n",
    "# Models\n",
    "\n",
    "from sklearn.linear_model import LogisticRegression\n",
    "from sklearn.neighbors import KNeighborsClassifier\n",
    "from sklearn.ensemble import RandomForestClassifier\n",
    "\n",
    "from sklearn.model_selection import train_test_split , cross_val_score\n",
    "from sklearn.model_selection import RandomizedSearchCV , GridSearchCV\n",
    "from sklearn.metrics import confusion_matrix , classification_report\n",
    "from sklearn.metrics import precision_score , recall_score , f1_score\n",
    "from sklearn.metrics import RocCurveDisplay"
   ]
  },
  {
   "cell_type": "code",
   "execution_count": 17,
   "id": "6b43fddb-4963-407c-aa5f-5ee5ea0c5afb",
   "metadata": {},
   "outputs": [
    {
     "data": {
      "text/plain": [
       "(303, 14)"
      ]
     },
     "execution_count": 17,
     "metadata": {},
     "output_type": "execute_result"
    }
   ],
   "source": [
    "df = pd.read_csv(\"heart-disease.csv\")\n",
    "df.shape"
   ]
  },
  {
   "cell_type": "markdown",
   "id": "3322b86e-d273-47e5-982a-5cd84497b941",
   "metadata": {},
   "source": [
    "## EDA Steps\n",
    "\n",
    "1. what question are you trying to solve?\n",
    "2. what kind of data do we have and how do we treat different types\n",
    "3. what missing data how we deal with it\n",
    "4. where are the outliers and why should you care about them\n",
    "5. How can you add, change or remove fetures to get more data?"
   ]
  },
  {
   "cell_type": "code",
   "execution_count": 20,
   "id": "744cfaf1-26ab-46c0-986e-f7848feb41f9",
   "metadata": {},
   "outputs": [
    {
     "data": {
      "text/plain": [
       "target\n",
       "1    165\n",
       "0    138\n",
       "Name: count, dtype: int64"
      ]
     },
     "execution_count": 20,
     "metadata": {},
     "output_type": "execute_result"
    }
   ],
   "source": [
    "df[\"target\"].value_counts()"
   ]
  },
  {
   "cell_type": "code",
   "execution_count": 22,
   "id": "d580e80a-9990-4b2b-8b3e-68f58a096674",
   "metadata": {},
   "outputs": [
    {
     "data": {
      "text/plain": [
       "<Axes: xlabel='target'>"
      ]
     },
     "execution_count": 22,
     "metadata": {},
     "output_type": "execute_result"
    },
    {
     "data": {
      "image/png": "[encoded data removed]",
      "text/plain": [
       "<Figure size 640x480 with 1 Axes>"
      ]
     },
     "metadata": {},
     "output_type": "display_data"
    }
   ],
   "source": [
    "df[\"target\"].value_counts().plot(kind = \"bar\" , color = [\"salmon\" , \"lightblue\"])"
   ]
  },
  {
   "cell_type": "code",
   "execution_count": null,
   "id": "496cb448-5420-43dc-bb4b-c63b29343057",
   "metadata": {},
   "outputs": [],
   "source": []
  }
 ],
 "metadata": {
  "kernelspec": {
   "display_name": "Python 3 (ipykernel)",
   "language": "python",
   "name": "python3"
  },
  "language_info": {
   "codemirror_mode": {
    "name": "ipython",
    "version": 3
   },
   "file_extension": ".py",
   "mimetype": "text/x-python",
   "name": "python",
   "nbconvert_exporter": "python",
   "pygments_lexer": "ipython3",
   "version": "3.13.5"
  }
 },
 "nbformat": 4,
 "nbformat_minor": 5
}
